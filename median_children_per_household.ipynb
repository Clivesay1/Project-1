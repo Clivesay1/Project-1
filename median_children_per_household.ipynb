{
 "cells": [
  {
   "cell_type": "code",
   "execution_count": 19,
   "metadata": {},
   "outputs": [],
   "source": [
    "from config import api_key"
   ]
  },
  {
   "cell_type": "code",
   "execution_count": 20,
   "metadata": {},
   "outputs": [
    {
     "name": "stdout",
     "output_type": "stream",
     "text": [
      "Children under 12 per household: 0.01\n"
     ]
    }
   ],
   "source": [
    "import requests\n",
    "\n",
    "# Set the variables you want to retrieve\n",
    "vars = [\"B10010_001E\", \"B10010_002E\", \"B10010_003E\", \"B11001_001E\"]  # Number of children under 18, 6-17, and under 6, and total households\n",
    "\n",
    "# Set the year and dataset\n",
    "year = \"2018\"\n",
    "dataset = \"acs/acs1\"\n",
    "\n",
    "# Set the geography code (in this case, Tennessee)\n",
    "geography_code = \"state:47\"  # 47 is the FIPS code for Tennessee\n",
    "\n",
    "# Construct the query URL\n",
    "query_url = f\"https://api.census.gov/data/{year}/{dataset}?get={','.join(vars)}&for={geography_code}&key={api_key}\"\n",
    "\n",
    "# Make the API call\n",
    "response = requests.get(query_url)\n",
    "\n",
    "# Parse the response\n",
    "data = response.json()\n",
    "\n",
    "# Extract the number of children per household\n",
    "total_children_under_18 = int(data[1][0])\n",
    "total_children_under_6 = int(data[1][2])\n",
    "total_households = int(data[1][3])\n",
    "\n",
    "# Calculate the number of children under 12\n",
    "total_children_under_12 = total_children_under_18 - total_children_under_6\n",
    "\n",
    "# Calculate the children per household\n",
    "children_per_household_under_12 = total_children_under_12 / total_households\n",
    "\n",
    "print(f\"Children under 12 per household: {children_per_household_under_12:.2f}\")"
   ]
  },
  {
   "cell_type": "code",
   "execution_count": 22,
   "metadata": {},
   "outputs": [
    {
     "name": "stdout",
     "output_type": "stream",
     "text": [
      "Children under 12 per household: 0.01\n"
     ]
    }
   ],
   "source": [
    "\n",
    "\n",
    "# Set the variables you want to retrieve\n",
    "vars = [\"B10010_001E\", \"B10010_002E\", \"B10010_003E\", \"B11001_001E\"]  # Number of children under 18, 6-17, and under 6, and total households\n",
    "\n",
    "# Set the year and dataset\n",
    "year = \"2022\"  # Note: The 2023 data might not be available yet, check the Census API for availability\n",
    "dataset = \"acs/acs1\"\n",
    "\n",
    "# Set the geography code (in this case, Tennessee)\n",
    "geography_code = \"state:47\"  # 47 is the FIPS code for Tennessee\n",
    "\n",
    "# Construct the query URL\n",
    "query_url = f\"https://api.census.gov/data/{year}/{dataset}?get={','.join(vars)}&for={geography_code}&key={api_key}\"\n",
    "\n",
    "try:\n",
    "    # Make the API call\n",
    "    response = requests.get(query_url)\n",
    "    response.raise_for_status()  # Raise an exception for 4xx or 5xx status codes\n",
    "    \n",
    "    # Parse the response\n",
    "    data = response.json()\n",
    "    \n",
    "    # Extract the number of children per household\n",
    "    total_children_under_18 = int(data[1][0])\n",
    "    total_children_under_6 = int(data[1][2])\n",
    "    total_households = int(data[1][3])\n",
    "    \n",
    "    # Calculate the number of children under 12\n",
    "    total_children_under_12 = total_children_under_18 - total_children_under_6\n",
    "    \n",
    "    # Calculate the children per household\n",
    "    children_per_household_under_12 = total_children_under_12 / total_households\n",
    "    \n",
    "    print(f\"Children under 12 per household: {children_per_household_under_12:.2f}\")\n",
    "    \n",
    "except requests.exceptions.RequestException as e:\n",
    "    print(f\"Error making API request: {e}\")\n",
    "    print(f\"Response text: {response.text}\")\n",
    "    raise\n",
    "except JSONDecodeError as e:\n",
    "    print(f\"Error parsing JSON response: {e}\")\n",
    "    print(f\"Response text: {response.text}\")\n",
    "    raise"
   ]
  }
 ],
 "metadata": {
  "kernelspec": {
   "display_name": "Python 3.10 (dev)",
   "language": "python",
   "name": "dev"
  },
  "language_info": {
   "codemirror_mode": {
    "name": "ipython",
    "version": 3
   },
   "file_extension": ".py",
   "mimetype": "text/x-python",
   "name": "python",
   "nbconvert_exporter": "python",
   "pygments_lexer": "ipython3",
   "version": "3.10.14"
  }
 },
 "nbformat": 4,
 "nbformat_minor": 2
}
