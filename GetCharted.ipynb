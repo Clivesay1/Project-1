{
 "cells": [
  {
   "cell_type": "code",
   "execution_count": 1,
   "metadata": {},
   "outputs": [],
   "source": [
    "import matplotlib.pyplot as plt\n",
    "import pandas as pd\n",
    "import numpy as np\n",
    "from pathlib import Path"
   ]
  },
  {
   "cell_type": "code",
   "execution_count": 4,
   "metadata": {},
   "outputs": [
    {
     "data": {
      "text/html": [
       "<div>\n",
       "<style scoped>\n",
       "    .dataframe tbody tr th:only-of-type {\n",
       "        vertical-align: middle;\n",
       "    }\n",
       "\n",
       "    .dataframe tbody tr th {\n",
       "        vertical-align: top;\n",
       "    }\n",
       "\n",
       "    .dataframe thead th {\n",
       "        text-align: right;\n",
       "    }\n",
       "</style>\n",
       "<table border=\"1\" class=\"dataframe\">\n",
       "  <thead>\n",
       "    <tr style=\"text-align: right;\">\n",
       "      <th></th>\n",
       "      <th>State</th>\n",
       "      <th>Median Household Income 2018</th>\n",
       "      <th>Median Household Income 2023</th>\n",
       "    </tr>\n",
       "  </thead>\n",
       "  <tbody>\n",
       "    <tr>\n",
       "      <th>0</th>\n",
       "      <td>Alabama</td>\n",
       "      <td>49,900</td>\n",
       "      <td>62,025</td>\n",
       "    </tr>\n",
       "    <tr>\n",
       "      <th>1</th>\n",
       "      <td>Alaska</td>\n",
       "      <td>74,300</td>\n",
       "      <td>84,210</td>\n",
       "    </tr>\n",
       "    <tr>\n",
       "      <th>2</th>\n",
       "      <td>Arizona</td>\n",
       "      <td>59,200</td>\n",
       "      <td>71,520</td>\n",
       "    </tr>\n",
       "    <tr>\n",
       "      <th>3</th>\n",
       "      <td>Arkansas</td>\n",
       "      <td>47,100</td>\n",
       "      <td>58,590</td>\n",
       "    </tr>\n",
       "    <tr>\n",
       "      <th>4</th>\n",
       "      <td>California</td>\n",
       "      <td>75,300</td>\n",
       "      <td>81,045</td>\n",
       "    </tr>\n",
       "  </tbody>\n",
       "</table>\n",
       "</div>"
      ],
      "text/plain": [
       "        State Median Household Income 2018 Median Household Income 2023\n",
       "0     Alabama                       49,900                       62,025\n",
       "1      Alaska                       74,300                       84,210\n",
       "2     Arizona                       59,200                       71,520\n",
       "3    Arkansas                       47,100                       58,590\n",
       "4  California                       75,300                       81,045"
      ]
     },
     "execution_count": 4,
     "metadata": {},
     "output_type": "execute_result"
    }
   ],
   "source": [
    "median_path = \"Resources/median_household_income.csv\"\n",
    "\n",
    "median_df = pd.read_csv(median_path)\n",
    "\n",
    "median_df.head()"
   ]
  },
  {
   "cell_type": "code",
   "execution_count": 6,
   "metadata": {},
   "outputs": [
    {
     "name": "stdout",
     "output_type": "stream",
     "text": [
      " Maryland has the highest median income in 2018 at 83,200\n",
      " Massachusetts has the highest median income in 2023 at 91,035\n"
     ]
    }
   ],
   "source": [
    "#Greatest Median Household Incomes\n",
    "\n",
    "#2018 Greatest\n",
    "\n",
    "state_max_2018 = median_df.loc[median_df[\"Median Household Income 2018\"].idxmax(), \"State\"]\n",
    "median_income_max_2018 = median_df[\"Median Household Income 2018\"].max()\n",
    "\n",
    "#2023 Greatest\n",
    "\n",
    "state_max_2023 = median_df.loc[median_df[\"Median Household Income 2023\"].idxmax(), \"State\"]\n",
    "median_income_max_2023 = median_df[\"Median Household Income 2023\"].max()\n",
    "\n",
    "#Print Results\n",
    "\n",
    "\n",
    "print(f\" {state_max_2018} has the highest median income in 2018 at {median_income_max_2018}\")\n",
    "print(f\" {state_max_2023} has the highest median income in 2023 at {median_income_max_2023}\")"
   ]
  },
  {
   "cell_type": "code",
   "execution_count": 8,
   "metadata": {},
   "outputs": [
    {
     "name": "stdout",
     "output_type": "stream",
     "text": [
      " West Virginia has the lowest median income in 2018 at 44,100\n",
      " Mississippi has the lowest median income in 2023 at 56,250\n"
     ]
    }
   ],
   "source": [
    "#Least Median Household Incomes\n",
    "\n",
    "#2018 Least\n",
    "\n",
    "state_min_2018 = median_df.loc[median_df[\"Median Household Income 2018\"].idxmin(), \"State\"]\n",
    "median_income_min_2018 = median_df[\"Median Household Income 2018\"].min()\n",
    "\n",
    "\n",
    "#2023 Least\n",
    "\n",
    "state_min_2023 = median_df.loc[median_df[\"Median Household Income 2023\"].idxmin(), \"State\"]\n",
    "median_income_min_2023 = median_df[\"Median Household Income 2023\"].min()\n",
    "\n",
    "\n",
    "\n",
    "print(f\" {state_min_2018} has the lowest median income in 2018 at {median_income_min_2018}\")\n",
    "print(f\" {state_min_2023} has the lowest median income in 2023 at {median_income_min_2023}\")"
   ]
  },
  {
   "cell_type": "code",
   "execution_count": null,
   "metadata": {},
   "outputs": [],
   "source": []
  },
  {
   "cell_type": "code",
   "execution_count": null,
   "metadata": {},
   "outputs": [],
   "source": []
  },
  {
   "cell_type": "code",
   "execution_count": null,
   "metadata": {},
   "outputs": [],
   "source": []
  }
 ],
 "metadata": {
  "kernelspec": {
   "display_name": "BigProject",
   "language": "python",
   "name": "python3"
  },
  "language_info": {
   "codemirror_mode": {
    "name": "ipython",
    "version": 3
   },
   "file_extension": ".py",
   "mimetype": "text/x-python",
   "name": "python",
   "nbconvert_exporter": "python",
   "pygments_lexer": "ipython3",
   "version": "3.12.4"
  }
 },
 "nbformat": 4,
 "nbformat_minor": 2
}
