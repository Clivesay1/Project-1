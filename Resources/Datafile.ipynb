{
 "cells": [
  {
   "cell_type": "code",
   "execution_count": 4,
   "metadata": {},
   "outputs": [],
   "source": [
    "import pandas as pd\n",
    "from pathlib import Path"
   ]
  },
  {
   "cell_type": "code",
   "execution_count": 6,
   "metadata": {},
   "outputs": [
    {
     "data": {
      "text/html": [
       "<div>\n",
       "<style scoped>\n",
       "    .dataframe tbody tr th:only-of-type {\n",
       "        vertical-align: middle;\n",
       "    }\n",
       "\n",
       "    .dataframe tbody tr th {\n",
       "        vertical-align: top;\n",
       "    }\n",
       "\n",
       "    .dataframe thead th {\n",
       "        text-align: right;\n",
       "    }\n",
       "</style>\n",
       "<table border=\"1\" class=\"dataframe\">\n",
       "  <thead>\n",
       "    <tr style=\"text-align: right;\">\n",
       "      <th></th>\n",
       "      <th>State</th>\n",
       "      <th>Median center-based price: 2018</th>\n",
       "      <th>Median home-based price: 2018</th>\n",
       "      <th>Median price: 2018</th>\n",
       "      <th>Median center-based price: 2023</th>\n",
       "      <th>Median home-based price: 2023</th>\n",
       "      <th>Median price: 2023</th>\n",
       "    </tr>\n",
       "  </thead>\n",
       "  <tbody>\n",
       "    <tr>\n",
       "      <th>0</th>\n",
       "      <td>Alabama</td>\n",
       "      <td>6,415</td>\n",
       "      <td>5,370</td>\n",
       "      <td>5,892</td>\n",
       "      <td>7,551</td>\n",
       "      <td>6,321</td>\n",
       "      <td>6,936</td>\n",
       "    </tr>\n",
       "    <tr>\n",
       "      <th>1</th>\n",
       "      <td>Alaska</td>\n",
       "      <td>11,702</td>\n",
       "      <td>8,115</td>\n",
       "      <td>9,908</td>\n",
       "      <td>13,773</td>\n",
       "      <td>9,552</td>\n",
       "      <td>11,663</td>\n",
       "    </tr>\n",
       "    <tr>\n",
       "      <th>2</th>\n",
       "      <td>Arizona</td>\n",
       "      <td>9,094</td>\n",
       "      <td>5,550</td>\n",
       "      <td>7,322</td>\n",
       "      <td>10,704</td>\n",
       "      <td>6,532</td>\n",
       "      <td>8,618</td>\n",
       "    </tr>\n",
       "    <tr>\n",
       "      <th>3</th>\n",
       "      <td>Arkansas</td>\n",
       "      <td>5,793</td>\n",
       "      <td>4,789</td>\n",
       "      <td>5,291</td>\n",
       "      <td>6,819</td>\n",
       "      <td>5,637</td>\n",
       "      <td>6,228</td>\n",
       "    </tr>\n",
       "    <tr>\n",
       "      <th>4</th>\n",
       "      <td>California</td>\n",
       "      <td>12,085</td>\n",
       "      <td>10,451</td>\n",
       "      <td>11,268</td>\n",
       "      <td>14,225</td>\n",
       "      <td>12,301</td>\n",
       "      <td>13,263</td>\n",
       "    </tr>\n",
       "  </tbody>\n",
       "</table>\n",
       "</div>"
      ],
      "text/plain": [
       "        State Median center-based price: 2018   Median home-based price: 2018  \\\n",
       "0     Alabama                             6,415                         5,370   \n",
       "1      Alaska                            11,702                         8,115   \n",
       "2     Arizona                             9,094                         5,550   \n",
       "3    Arkansas                             5,793                         4,789   \n",
       "4  California                            12,085                        10,451   \n",
       "\n",
       "  Median price: 2018 Median center-based price: 2023  \\\n",
       "0              5,892                           7,551   \n",
       "1              9,908                          13,773   \n",
       "2              7,322                          10,704   \n",
       "3              5,291                           6,819   \n",
       "4             11,268                          14,225   \n",
       "\n",
       "  Median home-based price: 2023 Median price: 2023  \n",
       "0                         6,321              6,936  \n",
       "1                         9,552             11,663  \n",
       "2                         6,532              8,618  \n",
       "3                         5,637              6,228  \n",
       "4                        12,301             13,263  "
      ]
     },
     "execution_count": 6,
     "metadata": {},
     "output_type": "execute_result"
    }
   ],
   "source": [
    "\n",
    "childcare_data = Path(\"../Resources/childcare_data.csv\")\n",
    "\n",
    "# Reading csv file\n",
    "merged_data = pd.read_csv(childcare_data)\n",
    "\n",
    "# An overview of data status\n",
    "merged_data.head()\n"
   ]
  },
  {
   "cell_type": "code",
   "execution_count": null,
   "metadata": {},
   "outputs": [],
   "source": [
    "# Median Childcare Cost\n",
    "median_center_based_childcare_cost_2018 = childcare_data[\"Median center-based price: 2018\"].median()\n",
    "median_home_based_childcare_cost_2023 = childcare_data[\"Median home-based price: 2023\"].median()\n",
    "\n",
    "# Print results\n"
   ]
  }
 ],
 "metadata": {
  "kernelspec": {
   "display_name": "new_env",
   "language": "python",
   "name": "python3"
  },
  "language_info": {
   "codemirror_mode": {
    "name": "ipython",
    "version": 3
   },
   "file_extension": ".py",
   "mimetype": "text/x-python",
   "name": "python",
   "nbconvert_exporter": "python",
   "pygments_lexer": "ipython3",
   "version": "3.11.9"
  }
 },
 "nbformat": 4,
 "nbformat_minor": 2
}
