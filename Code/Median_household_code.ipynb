{
 "cells": [
  {
   "cell_type": "code",
   "execution_count": 22,
   "metadata": {},
   "outputs": [],
   "source": [
    "# Dependencies and Setup\n",
    "import pandas as pd\n",
    "from pathlib import Path"
   ]
  },
  {
   "cell_type": "code",
   "execution_count": 23,
   "metadata": {},
   "outputs": [
    {
     "data": {
      "text/html": [
       "<div>\n",
       "<style scoped>\n",
       "    .dataframe tbody tr th:only-of-type {\n",
       "        vertical-align: middle;\n",
       "    }\n",
       "\n",
       "    .dataframe tbody tr th {\n",
       "        vertical-align: top;\n",
       "    }\n",
       "\n",
       "    .dataframe thead th {\n",
       "        text-align: right;\n",
       "    }\n",
       "</style>\n",
       "<table border=\"1\" class=\"dataframe\">\n",
       "  <thead>\n",
       "    <tr style=\"text-align: right;\">\n",
       "      <th></th>\n",
       "      <th>State</th>\n",
       "      <th>Median center-based price: 2018</th>\n",
       "      <th>Median home-based price: 2018</th>\n",
       "      <th>Median price: 2018</th>\n",
       "      <th>Median center-based price: 2023</th>\n",
       "      <th>Median home-based price: 2023</th>\n",
       "      <th>Median price: 2023</th>\n",
       "      <th>Median Household Income 2018</th>\n",
       "      <th>Median Household Income 2023</th>\n",
       "    </tr>\n",
       "  </thead>\n",
       "  <tbody>\n",
       "    <tr>\n",
       "      <th>0</th>\n",
       "      <td>Alabama</td>\n",
       "      <td>6,415</td>\n",
       "      <td>5,370</td>\n",
       "      <td>5,892</td>\n",
       "      <td>7,551</td>\n",
       "      <td>6,321</td>\n",
       "      <td>6,936</td>\n",
       "      <td>49900</td>\n",
       "      <td>62025</td>\n",
       "    </tr>\n",
       "    <tr>\n",
       "      <th>1</th>\n",
       "      <td>Alaska</td>\n",
       "      <td>11,702</td>\n",
       "      <td>8,115</td>\n",
       "      <td>9,908</td>\n",
       "      <td>13,773</td>\n",
       "      <td>9,552</td>\n",
       "      <td>11,663</td>\n",
       "      <td>74300</td>\n",
       "      <td>84210</td>\n",
       "    </tr>\n",
       "    <tr>\n",
       "      <th>2</th>\n",
       "      <td>Arizona</td>\n",
       "      <td>9,094</td>\n",
       "      <td>5,550</td>\n",
       "      <td>7,322</td>\n",
       "      <td>10,704</td>\n",
       "      <td>6,532</td>\n",
       "      <td>8,618</td>\n",
       "      <td>59200</td>\n",
       "      <td>71520</td>\n",
       "    </tr>\n",
       "    <tr>\n",
       "      <th>3</th>\n",
       "      <td>Arkansas</td>\n",
       "      <td>5,793</td>\n",
       "      <td>4,789</td>\n",
       "      <td>5,291</td>\n",
       "      <td>6,819</td>\n",
       "      <td>5,637</td>\n",
       "      <td>6,228</td>\n",
       "      <td>47100</td>\n",
       "      <td>58590</td>\n",
       "    </tr>\n",
       "    <tr>\n",
       "      <th>4</th>\n",
       "      <td>California</td>\n",
       "      <td>12,085</td>\n",
       "      <td>10,451</td>\n",
       "      <td>11,268</td>\n",
       "      <td>14,225</td>\n",
       "      <td>12,301</td>\n",
       "      <td>13,263</td>\n",
       "      <td>75300</td>\n",
       "      <td>81045</td>\n",
       "    </tr>\n",
       "  </tbody>\n",
       "</table>\n",
       "</div>"
      ],
      "text/plain": [
       "        State Median center-based price: 2018   Median home-based price: 2018  \\\n",
       "0     Alabama                             6,415                         5,370   \n",
       "1      Alaska                            11,702                         8,115   \n",
       "2     Arizona                             9,094                         5,550   \n",
       "3    Arkansas                             5,793                         4,789   \n",
       "4  California                            12,085                        10,451   \n",
       "\n",
       "  Median price: 2018 Median center-based price: 2023  \\\n",
       "0              5,892                           7,551   \n",
       "1              9,908                          13,773   \n",
       "2              7,322                          10,704   \n",
       "3              5,291                           6,819   \n",
       "4             11,268                          14,225   \n",
       "\n",
       "  Median home-based price: 2023 Median price: 2023  \\\n",
       "0                         6,321              6,936   \n",
       "1                         9,552             11,663   \n",
       "2                         6,532              8,618   \n",
       "3                         5,637              6,228   \n",
       "4                        12,301             13,263   \n",
       "\n",
       "   Median Household Income 2018  Median Household Income 2023  \n",
       "0                         49900                         62025  \n",
       "1                         74300                         84210  \n",
       "2                         59200                         71520  \n",
       "3                         47100                         58590  \n",
       "4                         75300                         81045  "
      ]
     },
     "execution_count": 23,
     "metadata": {},
     "output_type": "execute_result"
    }
   ],
   "source": [
    "# File to Load (Remember to Change These)\n",
    "merged_sheet = Path(\"../Resources/Merged_sheet.csv\")\n",
    "\n",
    "\n",
    "# Read Merged Data into Pandas DataFrames\n",
    "merged_data = pd.read_csv(merged_sheet)\n",
    "\n",
    "\n",
    "# Combine the data into a single dataset.\n",
    "\n",
    "merged_data.head()"
   ]
  },
  {
   "cell_type": "code",
   "execution_count": 25,
   "metadata": {},
   "outputs": [
    {
     "name": "stdout",
     "output_type": "stream",
     "text": [
      " The average median household income in 2018 is 59800.0\n",
      " The average median household income in 2023 is 70470.0\n"
     ]
    }
   ],
   "source": [
    "#Median Household Incomes\n",
    "\n",
    "median_household_income_2018 = merged_data[\"Median Household Income 2018\"].median()\n",
    "\n",
    "median_household_income_2023 = merged_data[\"Median Household Income 2023\"].median()\n",
    "\n",
    "#Print Results\n",
    "\n",
    "print(f\" The average median household income in 2018 is {median_household_income_2018}\")\n",
    "print(f\" The average median household income in 2023 is {median_household_income_2023}\")"
   ]
  },
  {
   "cell_type": "code",
   "execution_count": 27,
   "metadata": {},
   "outputs": [
    {
     "name": "stdout",
     "output_type": "stream",
     "text": [
      " Maryland has the highest median income in 2018 at 83200\n",
      " Massachusetts has the highest median income in 2023 at 91035\n"
     ]
    }
   ],
   "source": [
    "#Greatest Median Household Incomes\n",
    "\n",
    "#2018 Greatest\n",
    "\n",
    "state_max_2018 = merged_data.loc[merged_data[\"Median Household Income 2018\"].idxmax(), \"State\"]\n",
    "median_income_max_2018 = merged_data[\"Median Household Income 2018\"].max()\n",
    "\n",
    "#2023 Greatest\n",
    "\n",
    "state_max_2023 = merged_data.loc[merged_data[\"Median Household Income 2023\"].idxmax(), \"State\"]\n",
    "median_income_max_2023 = merged_data[\"Median Household Income 2023\"].max()\n",
    "\n",
    "#Print Results\n",
    "\n",
    "\n",
    "print(f\" {state_max_2018} has the highest median income in 2018 at {median_income_max_2018}\")\n",
    "print(f\" {state_max_2023} has the highest median income in 2023 at {median_income_max_2023}\")"
   ]
  },
  {
   "cell_type": "code",
   "execution_count": 28,
   "metadata": {},
   "outputs": [
    {
     "name": "stdout",
     "output_type": "stream",
     "text": [
      " West Virginia has the lowest median income in 2018 at 44100\n",
      " Mississippi has the lowest median income in 2023 at 56250\n"
     ]
    }
   ],
   "source": [
    "#Least Median Household Incomes\n",
    "\n",
    "#2018 Least\n",
    "\n",
    "state_min_2018 = merged_data.loc[merged_data[\"Median Household Income 2018\"].idxmin(), \"State\"]\n",
    "median_income_min_2018 = merged_data[\"Median Household Income 2018\"].min()\n",
    "\n",
    "\n",
    "#2023 Least\n",
    "\n",
    "state_min_2023 = merged_data.loc[merged_data[\"Median Household Income 2023\"].idxmin(), \"State\"]\n",
    "median_income_min_2023 = merged_data[\"Median Household Income 2023\"].min()\n",
    "\n",
    "\n",
    "\n",
    "print(f\" {state_min_2018} has the lowest median income in 2018 at {median_income_min_2018}\")\n",
    "print(f\" {state_min_2023} has the lowest median income in 2023 at {median_income_min_2023}\")"
   ]
  },
  {
   "cell_type": "code",
   "execution_count": 31,
   "metadata": {},
   "outputs": [
    {
     "name": "stdout",
     "output_type": "stream",
     "text": [
      " Tennessee's Median household income in 2018 is 52400\n",
      " Tennessee's Median household income in 2023 is 65730\n"
     ]
    }
   ],
   "source": [
    "#State of Tennessee\n",
    "\n",
    "#2018 Least\n",
    "\n",
    "Tenn_median_2018 = merged_data.loc[merged_data[\"State\"] == \"Tennessee\", \"Median Household Income 2018\"]\n",
    "income_2018 = 52400\n",
    "\n",
    "#2023 Least\n",
    "\n",
    "Tenn_median_2023 = merged_data.loc[merged_data[\"State\"] == \"Tennessee\", \"Median Household Income 2023\"]\n",
    "income_2023 = 65730\n",
    "\n",
    "\n",
    "print(f\" Tennessee's Median household income in 2018 is {income_2018}\")\n",
    "   \n",
    "print(f\" Tennessee's Median household income in 2023 is {income_2023}\")"
   ]
  }
 ],
 "metadata": {
  "kernelspec": {
   "display_name": "Python 3.11 (dev)",
   "language": "python",
   "name": "dev"
  },
  "language_info": {
   "codemirror_mode": {
    "name": "ipython",
    "version": 3
   },
   "file_extension": ".py",
   "mimetype": "text/x-python",
   "name": "python",
   "nbconvert_exporter": "python",
   "pygments_lexer": "ipython3",
   "version": "3.11.9"
  }
 },
 "nbformat": 4,
 "nbformat_minor": 2
}
